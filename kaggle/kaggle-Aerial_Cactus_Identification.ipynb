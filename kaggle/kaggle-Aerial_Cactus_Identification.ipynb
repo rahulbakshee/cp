{
 "cells": [
  {
   "cell_type": "markdown",
   "metadata": {},
   "source": [
    "https://www.kaggle.com/c/aerial-cactus-identification/"
   ]
  },
  {
   "cell_type": "code",
   "execution_count": 1,
   "metadata": {},
   "outputs": [
    {
     "name": "stdout",
     "output_type": "stream",
     "text": [
      "2.3.0\n"
     ]
    }
   ],
   "source": [
    "import pandas as pd\n",
    "import numpy as np\n",
    "import matplotlib.pyplot as plt\n",
    "%matplotlib inline\n",
    "import seaborn, gc, time, os, math\n",
    "\n",
    "from sklearn.model_selection import train_test_split\n",
    "\n",
    "import tensorflow as tf\n",
    "print(tf.__version__)\n",
    "\n",
    "from tensorflow.keras.preprocessing.image import load_img, ImageDataGenerator\n",
    "\n",
    "seed = 42\n",
    "np.random.seed(seed)\n",
    "tf.random.set_seed(seed)"
   ]
  },
  {
   "cell_type": "markdown",
   "metadata": {},
   "source": [
    "### load the data"
   ]
  },
  {
   "cell_type": "code",
   "execution_count": 2,
   "metadata": {},
   "outputs": [
    {
     "name": "stdout",
     "output_type": "stream",
     "text": [
      "(17500, 2)\n"
     ]
    },
    {
     "data": {
      "text/html": [
       "<div>\n",
       "<style scoped>\n",
       "    .dataframe tbody tr th:only-of-type {\n",
       "        vertical-align: middle;\n",
       "    }\n",
       "\n",
       "    .dataframe tbody tr th {\n",
       "        vertical-align: top;\n",
       "    }\n",
       "\n",
       "    .dataframe thead th {\n",
       "        text-align: right;\n",
       "    }\n",
       "</style>\n",
       "<table border=\"1\" class=\"dataframe\">\n",
       "  <thead>\n",
       "    <tr style=\"text-align: right;\">\n",
       "      <th></th>\n",
       "      <th>id</th>\n",
       "      <th>has_cactus</th>\n",
       "    </tr>\n",
       "  </thead>\n",
       "  <tbody>\n",
       "    <tr>\n",
       "      <th>0</th>\n",
       "      <td>0004be2cfeaba1c0361d39e2b000257b.jpg</td>\n",
       "      <td>1</td>\n",
       "    </tr>\n",
       "    <tr>\n",
       "      <th>1</th>\n",
       "      <td>000c8a36845c0208e833c79c1bffedd1.jpg</td>\n",
       "      <td>1</td>\n",
       "    </tr>\n",
       "    <tr>\n",
       "      <th>2</th>\n",
       "      <td>000d1e9a533f62e55c289303b072733d.jpg</td>\n",
       "      <td>1</td>\n",
       "    </tr>\n",
       "    <tr>\n",
       "      <th>3</th>\n",
       "      <td>0011485b40695e9138e92d0b3fb55128.jpg</td>\n",
       "      <td>1</td>\n",
       "    </tr>\n",
       "    <tr>\n",
       "      <th>4</th>\n",
       "      <td>0014d7a11e90b62848904c1418fc8cf2.jpg</td>\n",
       "      <td>1</td>\n",
       "    </tr>\n",
       "  </tbody>\n",
       "</table>\n",
       "</div>"
      ],
      "text/plain": [
       "                                     id  has_cactus\n",
       "0  0004be2cfeaba1c0361d39e2b000257b.jpg           1\n",
       "1  000c8a36845c0208e833c79c1bffedd1.jpg           1\n",
       "2  000d1e9a533f62e55c289303b072733d.jpg           1\n",
       "3  0011485b40695e9138e92d0b3fb55128.jpg           1\n",
       "4  0014d7a11e90b62848904c1418fc8cf2.jpg           1"
      ]
     },
     "execution_count": 2,
     "metadata": {},
     "output_type": "execute_result"
    }
   ],
   "source": [
    "train_df = pd.read_csv(\"train.csv\")\n",
    "train_dir = '/cp/kaggle/aerial-cactus-identification/train/train/'\n",
    "\n",
    "print(train_df.shape)\n",
    "train_df.head()"
   ]
  },
  {
   "cell_type": "code",
   "execution_count": 3,
   "metadata": {},
   "outputs": [
    {
     "name": "stdout",
     "output_type": "stream",
     "text": [
      "1    13136\n",
      "0     4364\n",
      "Name: has_cactus, dtype: int64\n"
     ]
    },
    {
     "data": {
      "text/plain": [
       "<matplotlib.axes._subplots.AxesSubplot at 0x157bd19f190>"
      ]
     },
     "execution_count": 3,
     "metadata": {},
     "output_type": "execute_result"
    },
    {
     "data": {
      "image/png": "[encoded data removed]",
      "text/plain": [
       "<Figure size 432x288 with 1 Axes>"
      ]
     },
     "metadata": {
      "needs_background": "light"
     },
     "output_type": "display_data"
    }
   ],
   "source": [
    "print(train_df[\"has_cactus\"].value_counts())\n",
    "seaborn.countplot(train_df[\"has_cactus\"])"
   ]
  },
  {
   "cell_type": "markdown",
   "metadata": {},
   "source": [
    "### visualise the data"
   ]
  },
  {
   "cell_type": "code",
   "execution_count": 4,
   "metadata": {},
   "outputs": [
    {
     "name": "stderr",
     "output_type": "stream",
     "text": [
      "C:\\Users\\rahul\\anaconda3\\lib\\site-packages\\pandas\\core\\ops\\array_ops.py:253: FutureWarning: elementwise comparison failed; returning scalar instead, but in the future will perform elementwise comparison\n",
      "  res_values = method(rvalues)\n"
     ]
    },
    {
     "data": {
      "text/plain": [
       "Series([], Name: id, dtype: object)"
      ]
     },
     "execution_count": 4,
     "metadata": {},
     "output_type": "execute_result"
    }
   ],
   "source": [
    "train_df[train_df[\"has_cactus\"] == '1'][\"id\"][:5]"
   ]
  },
  {
   "cell_type": "code",
   "execution_count": 5,
   "metadata": {},
   "outputs": [
    {
     "data": {
      "image/png": "[encoded data removed]",
      "text/plain": [
       "<Figure size 720x504 with 10 Axes>"
      ]
     },
     "metadata": {
      "needs_background": "light"
     },
     "output_type": "display_data"
    }
   ],
   "source": [
    "fig,ax = plt.subplots(2,5, figsize=(10,7))\n",
    "\n",
    "for i, index in enumerate(train_df[train_df[\"has_cactus\"] == 1][\"id\"][:5]):\n",
    "    path = os.path.join(train_dir, index)\n",
    "    img = load_img(path)\n",
    "    ax[0,i].set_title(\"Cactus\")\n",
    "    ax[0,i].imshow(img)\n",
    "    \n",
    "for i, index in enumerate(train_df[train_df[\"has_cactus\"] == 0][\"id\"][:5]):\n",
    "    path = os.path.join(train_dir, index)\n",
    "    img = load_img(path)\n",
    "    ax[1,i].set_title(\"No Cactus\")\n",
    "    ax[1,i].imshow(img)"
   ]
  },
  {
   "cell_type": "markdown",
   "metadata": {},
   "source": [
    "### split the data"
   ]
  },
  {
   "cell_type": "code",
   "execution_count": 6,
   "metadata": {},
   "outputs": [
    {
     "name": "stdout",
     "output_type": "stream",
     "text": [
      "before split train shape (17500, 2)\n",
      "after split train/val shape (14000, 2) (3500, 2)\n"
     ]
    }
   ],
   "source": [
    "# convert target variable into 'str' type to avoid below error\n",
    "# TypeError: If class_mode=\"binary\", y_col=\"has_cactus\" column values must be strings.\n",
    "train_df[\"has_cactus\"] = train_df[\"has_cactus\"].astype('str')\n",
    "\n",
    "print(\"before split train shape\", train_df.shape)\n",
    "train_df, val_df = train_test_split(train_df, test_size=0.2, stratify=train_df[\"has_cactus\"], shuffle=True, random_state=seed)\n",
    "\n",
    "train_df = train_df.reset_index(drop=True)\n",
    "val_df = val_df.reset_index(drop=True)\n",
    "\n",
    "print(\"after split train/val shape\", train_df.shape, val_df.shape)"
   ]
  },
  {
   "cell_type": "code",
   "execution_count": null,
   "metadata": {},
   "outputs": [],
   "source": []
  },
  {
   "cell_type": "markdown",
   "metadata": {},
   "source": [
    "### prepare data for modeling"
   ]
  },
  {
   "cell_type": "code",
   "execution_count": 7,
   "metadata": {},
   "outputs": [
    {
     "name": "stdout",
     "output_type": "stream",
     "text": [
      "Found 14000 validated image filenames belonging to 2 classes.\n",
      "Found 3500 validated image filenames belonging to 2 classes.\n"
     ]
    }
   ],
   "source": [
    "img_width, img_height = 32,32\n",
    "target_size = (img_width, img_height)\n",
    "batch_size = 32\n",
    "\n",
    "train_datagen = ImageDataGenerator(rescale=1./255)\n",
    "val_datagen = ImageDataGenerator(rescale=1./255)\n",
    "\n",
    "train_generator = train_datagen.flow_from_dataframe(dataframe=train_df,\n",
    "                                                   directory=train_dir,\n",
    "                                                   x_col='id',\n",
    "                                                   y_col='has_cactus',\n",
    "                                                   target_size=target_size,\n",
    "                                                    class_mode='binary',\n",
    "                                                   batch_size=batch_size,\n",
    "                                                   seed = seed)\n",
    "val_generator = val_datagen.flow_from_dataframe(dataframe=val_df,\n",
    "                                                   directory=train_dir,\n",
    "                                                   x_col='id',\n",
    "                                                   y_col='has_cactus',\n",
    "                                                   target_size=target_size,\n",
    "                                                    class_mode='binary',\n",
    "                                                   batch_size=batch_size,\n",
    "                                                   seed = seed)\n"
   ]
  },
  {
   "cell_type": "markdown",
   "metadata": {},
   "source": [
    "### create CNN model from scratch"
   ]
  },
  {
   "cell_type": "code",
   "execution_count": 8,
   "metadata": {},
   "outputs": [],
   "source": [
    "from tensorflow.keras.layers import Conv2D, MaxPool2D, Flatten, Activation, BatchNormalization\n",
    "from tensorflow.keras.layers import Dense, Input, GlobalMaxPool2D, Dropout\n",
    "from tensorflow.keras.models import Sequential, Model"
   ]
  },
  {
   "cell_type": "code",
   "execution_count": 9,
   "metadata": {},
   "outputs": [],
   "source": [
    "inputs = Input(shape=(*target_size, 3))\n",
    "\n",
    "x = Conv2D(32, (3,3), activation='relu')(inputs)\n",
    "x = MaxPool2D((2,2))(x)\n",
    "x = Dropout(0.25)(x)\n",
    "\n",
    "x = Conv2D(64, (3,3), activation='relu')(x)\n",
    "x = MaxPool2D((2,2))(x)\n",
    "x = Dropout(0.25)(x)\n",
    "\n",
    "x = Conv2D(128, (3,3), activation='relu')(x)\n",
    "x = MaxPool2D((2,2))(x)\n",
    "x = Dropout(0.25)(x)\n",
    "\n",
    "x = GlobalMaxPool2D()(x)\n",
    "\n",
    "x = Dense(128, activation='relu')(x)\n",
    "x = Dropout(0.25)(x)\n",
    "\n",
    "outputs = Dense(1, activation='sigmoid')(x)\n",
    "\n",
    "model = Model(inputs, outputs)"
   ]
  },
  {
   "cell_type": "code",
   "execution_count": 10,
   "metadata": {},
   "outputs": [],
   "source": [
    "model.compile(optimizer='adam',\n",
    "    loss='binary_crossentropy',\n",
    "    metrics=['AUC'])"
   ]
  },
  {
   "cell_type": "code",
   "execution_count": 11,
   "metadata": {},
   "outputs": [
    {
     "name": "stdout",
     "output_type": "stream",
     "text": [
      "Model: \"functional_1\"\n",
      "_________________________________________________________________\n",
      "Layer (type)                 Output Shape              Param #   \n",
      "=================================================================\n",
      "input_1 (InputLayer)         [(None, 32, 32, 3)]       0         \n",
      "_________________________________________________________________\n",
      "conv2d (Conv2D)              (None, 30, 30, 32)        896       \n",
      "_________________________________________________________________\n",
      "max_pooling2d (MaxPooling2D) (None, 15, 15, 32)        0         \n",
      "_________________________________________________________________\n",
      "dropout (Dropout)            (None, 15, 15, 32)        0         \n",
      "_________________________________________________________________\n",
      "conv2d_1 (Conv2D)            (None, 13, 13, 64)        18496     \n",
      "_________________________________________________________________\n",
      "max_pooling2d_1 (MaxPooling2 (None, 6, 6, 64)          0         \n",
      "_________________________________________________________________\n",
      "dropout_1 (Dropout)          (None, 6, 6, 64)          0         \n",
      "_________________________________________________________________\n",
      "conv2d_2 (Conv2D)            (None, 4, 4, 128)         73856     \n",
      "_________________________________________________________________\n",
      "max_pooling2d_2 (MaxPooling2 (None, 2, 2, 128)         0         \n",
      "_________________________________________________________________\n",
      "dropout_2 (Dropout)          (None, 2, 2, 128)         0         \n",
      "_________________________________________________________________\n",
      "global_max_pooling2d (Global (None, 128)               0         \n",
      "_________________________________________________________________\n",
      "dense (Dense)                (None, 128)               16512     \n",
      "_________________________________________________________________\n",
      "dropout_3 (Dropout)          (None, 128)               0         \n",
      "_________________________________________________________________\n",
      "dense_1 (Dense)              (None, 1)                 129       \n",
      "=================================================================\n",
      "Total params: 109,889\n",
      "Trainable params: 109,889\n",
      "Non-trainable params: 0\n",
      "_________________________________________________________________\n"
     ]
    }
   ],
   "source": [
    "model.summary()"
   ]
  },
  {
   "cell_type": "code",
   "execution_count": 12,
   "metadata": {},
   "outputs": [],
   "source": [
    "from tensorflow.keras.callbacks import LearningRateScheduler, EarlyStopping\n",
    "\n",
    "earlyStopping = EarlyStopping(patience=5)\n",
    "\n",
    "def decay(epoch):\n",
    "    init_lr = 0.001\n",
    "    drop = 0.5\n",
    "    epochs_drop = 10.0\n",
    "    lr = init_lr * math.pow(drop, math.floor((epoch) / epochs_drop))\n",
    "    \n",
    "    return lr\n",
    "\n",
    "\n",
    "lrScheduler = LearningRateScheduler(schedule=decay)"
   ]
  },
  {
   "cell_type": "code",
   "execution_count": 13,
   "metadata": {},
   "outputs": [
    {
     "name": "stdout",
     "output_type": "stream",
     "text": [
      "Epoch 1/20\n",
      "437/437 [==============================] - 4s 9ms/step - loss: 0.2058 - auc: 0.9652 - val_loss: 0.1831 - val_auc: 0.9871\n",
      "Epoch 2/20\n",
      "437/437 [==============================] - 4s 8ms/step - loss: 0.1251 - auc: 0.9868 - val_loss: 0.1596 - val_auc: 0.9923\n",
      "Epoch 3/20\n",
      "437/437 [==============================] - 4s 8ms/step - loss: 0.0908 - auc: 0.9924 - val_loss: 0.0654 - val_auc: 0.9970\n",
      "Epoch 4/20\n",
      "437/437 [==============================] - 4s 8ms/step - loss: 0.0737 - auc: 0.9946 - val_loss: 0.0598 - val_auc: 0.9972\n",
      "Epoch 5/20\n",
      "437/437 [==============================] - 4s 8ms/step - loss: 0.0900 - auc: 0.9925 - val_loss: 0.0821 - val_auc: 0.9968\n",
      "Epoch 6/20\n",
      "437/437 [==============================] - 4s 8ms/step - loss: 0.0659 - auc: 0.9955 - val_loss: 0.0652 - val_auc: 0.9984\n",
      "Epoch 7/20\n",
      "437/437 [==============================] - 4s 8ms/step - loss: 0.0543 - auc: 0.9969 - val_loss: 0.0492 - val_auc: 0.9983\n",
      "Epoch 8/20\n",
      "437/437 [==============================] - 4s 8ms/step - loss: 0.0544 - auc: 0.9966 - val_loss: 0.0904 - val_auc: 0.9930\n",
      "Epoch 9/20\n",
      "437/437 [==============================] - 4s 8ms/step - loss: 0.0580 - auc: 0.9960 - val_loss: 0.0730 - val_auc: 0.9980\n",
      "Epoch 10/20\n",
      "437/437 [==============================] - 4s 8ms/step - loss: 0.0628 - auc: 0.9958 - val_loss: 0.0837 - val_auc: 0.9978\n",
      "Epoch 11/20\n",
      "437/437 [==============================] - 4s 8ms/step - loss: 0.0340 - auc: 0.9981 - val_loss: 0.0798 - val_auc: 0.9974\n",
      "Epoch 12/20\n",
      "437/437 [==============================] - 4s 8ms/step - loss: 0.0328 - auc: 0.9988 - val_loss: 0.0282 - val_auc: 0.9982\n",
      "Epoch 13/20\n",
      "437/437 [==============================] - 4s 8ms/step - loss: 0.0313 - auc: 0.9984 - val_loss: 0.0416 - val_auc: 0.9992\n",
      "Epoch 14/20\n",
      "437/437 [==============================] - 4s 8ms/step - loss: 0.0276 - auc: 0.9991 - val_loss: 0.0257 - val_auc: 0.9989\n",
      "Epoch 15/20\n",
      "437/437 [==============================] - 4s 8ms/step - loss: 0.0315 - auc: 0.9987 - val_loss: 0.0272 - val_auc: 0.9989\n",
      "Epoch 16/20\n",
      "437/437 [==============================] - 4s 8ms/step - loss: 0.0256 - auc: 0.9989 - val_loss: 0.0303 - val_auc: 0.9983\n",
      "Epoch 17/20\n",
      "437/437 [==============================] - 4s 8ms/step - loss: 0.0259 - auc: 0.9990 - val_loss: 0.0267 - val_auc: 0.9983\n",
      "Epoch 18/20\n",
      "437/437 [==============================] - 4s 8ms/step - loss: 0.0255 - auc: 0.9989 - val_loss: 0.0252 - val_auc: 0.9984\n",
      "Epoch 19/20\n",
      "437/437 [==============================] - 4s 8ms/step - loss: 0.0239 - auc: 0.9990 - val_loss: 0.1237 - val_auc: 0.9970\n",
      "Epoch 20/20\n",
      "437/437 [==============================] - 4s 8ms/step - loss: 0.0228 - auc: 0.9991 - val_loss: 0.0281 - val_auc: 0.9982\n"
     ]
    }
   ],
   "source": [
    "epochs = 20\n",
    "\n",
    "history = model.fit(train_generator, batch_size=64, epochs=epochs, validation_data=val_generator, \n",
    "                    steps_per_epoch=train_generator.n//batch_size, validation_steps=val_generator.n//batch_size,\n",
    "                    callbacks=[earlyStopping, lrScheduler])"
   ]
  },
  {
   "cell_type": "code",
   "execution_count": 14,
   "metadata": {},
   "outputs": [
    {
     "data": {
      "image/png": "[encoded data removed]",
      "text/plain": [
       "<Figure size 576x576 with 2 Axes>"
      ]
     },
     "metadata": {
      "needs_background": "light"
     },
     "output_type": "display_data"
    }
   ],
   "source": [
    "acc = history.history['auc']\n",
    "val_acc = history.history['val_auc']\n",
    "\n",
    "loss = history.history['loss']\n",
    "val_loss = history.history['val_loss']\n",
    "\n",
    "plt.figure(figsize=(8, 8))\n",
    "plt.subplot(2, 1, 1)\n",
    "plt.plot(acc, label='Training AUC')\n",
    "plt.plot(val_acc, label='Validation AUC')\n",
    "plt.legend(loc='lower right')\n",
    "plt.ylabel('AUC')\n",
    "plt.ylim([min(plt.ylim()),1])\n",
    "plt.title('Training and Validation AUC')\n",
    "\n",
    "plt.subplot(2, 1, 2)\n",
    "plt.plot(loss, label='Training Loss')\n",
    "plt.plot(val_loss, label='Validation Loss')\n",
    "plt.legend(loc='upper right')\n",
    "plt.ylabel('Cross Entropy')\n",
    "plt.ylim([0,1.0])\n",
    "plt.title('Training and Validation Loss')\n",
    "plt.xlabel('epoch')\n",
    "plt.show()"
   ]
  },
  {
   "cell_type": "code",
   "execution_count": 15,
   "metadata": {},
   "outputs": [
    {
     "name": "stdout",
     "output_type": "stream",
     "text": [
      "Found 4000 images belonging to 1 classes.\n"
     ]
    }
   ],
   "source": [
    "test_df = pd.read_csv(\"sample_submission.csv\")\n",
    "test_dir = '/cp/kaggle/aerial-cactus-identification/test'\n",
    "\n",
    "test_datagen = ImageDataGenerator(rescale=1./255)\n",
    "test_generator = test_datagen.flow_from_directory(directory=test_dir,\n",
    "                                 target_size=target_size,\n",
    "                                 class_mode='binary',\n",
    "                                 batch_size=1,\n",
    "                                 shuffle=False,\n",
    "                                 seed=seed)\n",
    "\n"
   ]
  },
  {
   "cell_type": "code",
   "execution_count": 16,
   "metadata": {},
   "outputs": [
    {
     "data": {
      "text/html": [
       "<div>\n",
       "<style scoped>\n",
       "    .dataframe tbody tr th:only-of-type {\n",
       "        vertical-align: middle;\n",
       "    }\n",
       "\n",
       "    .dataframe tbody tr th {\n",
       "        vertical-align: top;\n",
       "    }\n",
       "\n",
       "    .dataframe thead th {\n",
       "        text-align: right;\n",
       "    }\n",
       "</style>\n",
       "<table border=\"1\" class=\"dataframe\">\n",
       "  <thead>\n",
       "    <tr style=\"text-align: right;\">\n",
       "      <th></th>\n",
       "      <th>id</th>\n",
       "      <th>has_cactus</th>\n",
       "    </tr>\n",
       "  </thead>\n",
       "  <tbody>\n",
       "    <tr>\n",
       "      <th>0</th>\n",
       "      <td>000940378805c44108d287872b2f04ce.jpg</td>\n",
       "      <td>0.992666</td>\n",
       "    </tr>\n",
       "    <tr>\n",
       "      <th>1</th>\n",
       "      <td>0017242f54ececa4512b4d7937d1e21e.jpg</td>\n",
       "      <td>1.000000</td>\n",
       "    </tr>\n",
       "    <tr>\n",
       "      <th>2</th>\n",
       "      <td>001ee6d8564003107853118ab87df407.jpg</td>\n",
       "      <td>0.007337</td>\n",
       "    </tr>\n",
       "    <tr>\n",
       "      <th>3</th>\n",
       "      <td>002e175c3c1e060769475f52182583d0.jpg</td>\n",
       "      <td>0.003187</td>\n",
       "    </tr>\n",
       "    <tr>\n",
       "      <th>4</th>\n",
       "      <td>0036e44a7e8f7218e9bc7bf8137e4943.jpg</td>\n",
       "      <td>0.633145</td>\n",
       "    </tr>\n",
       "  </tbody>\n",
       "</table>\n",
       "</div>"
      ],
      "text/plain": [
       "                                     id  has_cactus\n",
       "0  000940378805c44108d287872b2f04ce.jpg    0.992666\n",
       "1  0017242f54ececa4512b4d7937d1e21e.jpg    1.000000\n",
       "2  001ee6d8564003107853118ab87df407.jpg    0.007337\n",
       "3  002e175c3c1e060769475f52182583d0.jpg    0.003187\n",
       "4  0036e44a7e8f7218e9bc7bf8137e4943.jpg    0.633145"
      ]
     },
     "execution_count": 16,
     "metadata": {},
     "output_type": "execute_result"
    }
   ],
   "source": [
    "preds = model.predict(test_generator)\n",
    "test_df[\"has_cactus\"] = preds\n",
    "test_df.head()"
   ]
  }
 ],
 "metadata": {
  "kernelspec": {
   "display_name": "Python 3",
   "language": "python",
   "name": "python3"
  },
  "language_info": {
   "codemirror_mode": {
    "name": "ipython",
    "version": 3
   },
   "file_extension": ".py",
   "mimetype": "text/x-python",
   "name": "python",
   "nbconvert_exporter": "python",
   "pygments_lexer": "ipython3",
   "version": "3.8.3"
  }
 },
 "nbformat": 4,
 "nbformat_minor": 4
}
